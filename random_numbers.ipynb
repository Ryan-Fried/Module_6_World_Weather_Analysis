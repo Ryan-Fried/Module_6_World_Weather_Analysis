{
 "cells": [
  {
   "cell_type": "code",
   "execution_count": 1,
   "id": "ff05ec85",
   "metadata": {},
   "outputs": [],
   "source": [
    "# Import the random module\n",
    "import random"
   ]
  },
  {
   "cell_type": "code",
   "execution_count": 12,
   "id": "f1b882b6",
   "metadata": {},
   "outputs": [
    {
     "data": {
      "text/plain": [
       "5.233164317852062"
      ]
     },
     "execution_count": 12,
     "metadata": {},
     "output_type": "execute_result"
    }
   ],
   "source": [
    "random_number = random.randint(-90, 89) + random.random()\n",
    "random_number"
   ]
  },
  {
   "cell_type": "code",
   "execution_count": 11,
   "id": "4f0a473e",
   "metadata": {},
   "outputs": [
    {
     "data": {
      "text/plain": [
       "0.4547449488410956"
      ]
     },
     "execution_count": 11,
     "metadata": {},
     "output_type": "execute_result"
    }
   ],
   "source": [
    "random.random()"
   ]
  },
  {
   "cell_type": "code",
   "execution_count": 17,
   "id": "18666edc",
   "metadata": {},
   "outputs": [],
   "source": [
    "x = 1\n",
    "latitudes = []\n",
    "while x < 11:\n",
    "    random_lat = random.randint(-90, 89) + random.random()\n",
    "    latitudes.append(random_lat)\n",
    "    x += 1"
   ]
  },
  {
   "cell_type": "code",
   "execution_count": 18,
   "id": "b81d85bc",
   "metadata": {},
   "outputs": [
    {
     "data": {
      "text/plain": [
       "[72.79504598948286,\n",
       " 79.74479038083096,\n",
       " 60.24924577181484,\n",
       " 15.367771123014524,\n",
       " 54.1463595269278,\n",
       " -51.91147735877087,\n",
       " -23.18330201734169,\n",
       " 70.76547501499103,\n",
       " -78.49450309922449,\n",
       " 23.65262075738342]"
      ]
     },
     "execution_count": 18,
     "metadata": {},
     "output_type": "execute_result"
    }
   ],
   "source": [
    "latitudes"
   ]
  },
  {
   "cell_type": "code",
   "execution_count": 19,
   "id": "a1aad78c",
   "metadata": {},
   "outputs": [],
   "source": [
    "import numpy as np"
   ]
  },
  {
   "cell_type": "code",
   "execution_count": 21,
   "id": "05777db3",
   "metadata": {},
   "outputs": [
    {
     "data": {
      "text/plain": [
       "array([  6.29849672,  35.42560669, -46.36218597,  40.4491331 ,\n",
       "       -88.77066469,  11.95201855,  86.02986137, -51.63864973,\n",
       "        16.83095022, -13.98235985, -47.25841399,  85.25982592,\n",
       "       -50.94464501,  65.7007651 ,  -4.27448646, -13.03610667,\n",
       "       -27.36410181,  66.26687184,  -1.54892986, -37.98237999,\n",
       "       -36.29470255,  20.05079105,  10.61311547, -16.10884584,\n",
       "        22.45939055,  -4.37601891,  38.81372158,  50.56276496,\n",
       "        32.76834695,   2.74686837, -10.38228544,   7.1406069 ,\n",
       "       -79.78253793,  27.17749821, -44.63634966,  57.46352613,\n",
       "         0.71397641, -62.42976526, -11.81288713,  34.11094332,\n",
       "        20.49354992, -21.37449088, -78.31280481,  41.16610819,\n",
       "       -61.93072489, -39.2164002 ,  -8.07735314,  76.18583169,\n",
       "       -52.39376908, -45.31479641])"
      ]
     },
     "execution_count": 21,
     "metadata": {},
     "output_type": "execute_result"
    }
   ],
   "source": [
    "np.random.uniform(-90.000, 90.000, size=50)"
   ]
  },
  {
   "cell_type": "code",
   "execution_count": 22,
   "id": "aea5e206",
   "metadata": {},
   "outputs": [],
   "source": [
    "import timeit"
   ]
  },
  {
   "cell_type": "code",
   "execution_count": 23,
   "id": "78106969",
   "metadata": {},
   "outputs": [
    {
     "name": "stdout",
     "output_type": "stream",
     "text": [
      "20.6 µs ± 1.41 µs per loop (mean ± std. dev. of 7 runs, 100000 loops each)\n"
     ]
    }
   ],
   "source": [
    "%timeit np.random.uniform(-90.000, 90.000, size=1500)"
   ]
  },
  {
   "cell_type": "code",
   "execution_count": 24,
   "id": "a7074f15",
   "metadata": {},
   "outputs": [
    {
     "name": "stdout",
     "output_type": "stream",
     "text": [
      "2.38 ms ± 220 µs per loop (mean ± std. dev. of 7 runs, 100 loops each)\n"
     ]
    }
   ],
   "source": [
    "def latitudes(size):\n",
    "    latitudes = []\n",
    "    x = 0\n",
    "    while x < (size):\n",
    "        random_lat = random.randint(-90, 90) + random.random()\n",
    "        latitudes.append(random_lat)\n",
    "        x += 1\n",
    "    return latitudes\n",
    "# Call the function with 1500.\n",
    "%timeit latitudes(1500)"
   ]
  },
  {
   "cell_type": "code",
   "execution_count": null,
   "id": "1616e7ac",
   "metadata": {},
   "outputs": [],
   "source": []
  }
 ],
 "metadata": {
  "kernelspec": {
   "display_name": "PythonData",
   "language": "python",
   "name": "pythondata"
  },
  "language_info": {
   "codemirror_mode": {
    "name": "ipython",
    "version": 3
   },
   "file_extension": ".py",
   "mimetype": "text/x-python",
   "name": "python",
   "nbconvert_exporter": "python",
   "pygments_lexer": "ipython3",
   "version": "3.7.10"
  }
 },
 "nbformat": 4,
 "nbformat_minor": 5
}
